{
 "cells": [
  {
   "cell_type": "markdown",
   "metadata": {},
   "source": [
    "V0 initial build POC - 20241020\n",
    "1. First step try to determine which data is of interest. As FIP (Feline Infectious Peritonitis) is considered one the most serious diseases, I chose to monitor data indicative of such disease, ie, temperature and weight. \n",
    "2. Second thought is to add a link to external data base to provide checking benchmark. For now I have ad hoc criterion, ie, body_temp = 39.5 and vomit = true\n"
   ]
  },
  {
   "cell_type": "code",
   "execution_count": 11,
   "metadata": {},
   "outputs": [
    {
     "name": "stdout",
     "output_type": "stream",
     "text": [
      "Cat is 3.5 years old, weighs 7.7 kg, has a body temperature of 38\n",
      "No worries of FIP.\n"
     ]
    }
   ],
   "source": [
    "class Cat: \n",
    "    def __init__(self, name, age, weight,body_temp, vomit=False):\n",
    "         '''\n",
    "         vomit is a boolean, name is string, and the rest are numeric\n",
    "         age should be in years, weight in kg, body_temp in celcius \n",
    "         '''\n",
    "         self.name = name \n",
    "         self.age = age \n",
    "         self.weight = weight\n",
    "         self.body_temp = body_temp\n",
    "         self.vomit = vomit\n",
    "    \n",
    "    def update_stats(self, age, weight, body_temp, vomit): \n",
    "        '''\n",
    "        Update the cat's basic information  \n",
    "        '''\n",
    "        self.age = age \n",
    "        self.weight = weight\n",
    "        self.body_temp = body_temp\n",
    "        self.vomit = vomit\n",
    "    \n",
    "    def get_stats(self):\n",
    "        '''\n",
    "        Get the basic stats of a cat\n",
    "        '''\n",
    "        return f\"Cat is {self.age} years old, weighs {self.weight} kg, has a body temperature of {self.body_temp}\"\n",
    "\n",
    "\n",
    "    def check_health_status(self):\n",
    "        '''\n",
    "        Initially check if cat shows sign of FIP by considering the occurrence of vomit and unusual body temperature\n",
    "        '''\n",
    "        if self.vomit and self.body_temp > 39.5:\n",
    "            return f\"You cat checks 2 signs of FIP. \"\n",
    "        elif self.vomit or self.body_temp > 39.5:\n",
    "            return f\"You cat requires close monitoring. \"\n",
    "        else:\n",
    "            return f\"No worries of FIP.\"\n",
    "    \n",
    "if __name__ == '__main__': \n",
    "    my_cat = Cat('Killua',3.5,7.7,38)\n",
    "    print(my_cat.get_stats())\n",
    "    print(my_cat.check_health_status())\n",
    "\n",
    "\n",
    "\n",
    "\n"
   ]
  },
  {
   "cell_type": "code",
   "execution_count": null,
   "metadata": {},
   "outputs": [],
   "source": []
  }
 ],
 "metadata": {
  "kernelspec": {
   "display_name": ".venv",
   "language": "python",
   "name": "python3"
  },
  "language_info": {
   "codemirror_mode": {
    "name": "ipython",
    "version": 3
   },
   "file_extension": ".py",
   "mimetype": "text/x-python",
   "name": "python",
   "nbconvert_exporter": "python",
   "pygments_lexer": "ipython3",
   "version": "3.10.6"
  }
 },
 "nbformat": 4,
 "nbformat_minor": 2
}
