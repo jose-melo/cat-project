{
 "cells": [
  {
   "cell_type": "markdown",
   "metadata": {},
   "source": [
    "V0 initial build POC - 20241020\n",
    "\n",
    "1. First step try to determine which data is of interest. As FIP (Feline Infectious Peritonitis) is considered one of the most serious diseases, I chose to monitor data indicative of such disease, ie, temperature and weight. \n",
    "2. Second thought is to add a link to external data base to provide checking benchmark. For now I have ad hoc criterion, ie, body_temp = 39.5 and vomit = true\n",
    "3. Third thought is to add more complicated criterion loop to see if the cat actually has the disease. For now I only have 2 if statements which are apparently not enough. Need to establish a more rigorous and universal standard. \n",
    "\n",
    "\n",
    "V0 initial build POC - 20241023 \n",
    "Vision: To build an application that covers the entire process of FIP pre-check, medical visit and post-diagnostic treatment. \n",
    "--- Only have 1 class Cat for doing the initial check; potentially add another class for external benchmarking. \n",
    "--- Medical visit should have a second class which stores vet info? which is another external data base; users input doctor prescription ... \n",
    "--- Post-diagnostic treatment has another class that stores at least medicine schedule(dictionary), injection schedule(dictionary) and further consultation schedule(dictionary). \n",
    "\n",
    "Question: \n",
    "0. Abstraction of data: recommendation\n",
    "1. external data base -- how to connect API?  \n",
    "2. Several ways of defining criteria: do it in one function or separate into several functions ? \n",
    "3. Class specification recommendation \n",
    "4. In terms of the graphical design, should that be included in each class as a function or should that deserve a seperate class? In the geometry class exercise we did, draw is a seperate class. -- \n",
    "4. In terms of the main function, in my understanding that is the implementation process which is an independant function outside of all existing classes? \n",
    "So we should have def main() with all the commands, and then \n",
    "if __name__ == '__main__':\n",
    "    main() \n",
    "5. Imagine a real world scenario where people might access pre-check, medical visit and post-diagnostic treatment independently, what should the main function be like? Apparently most people will not perform these tasks in sequence. "
   ]
  },
  {
   "cell_type": "code",
   "execution_count": 13,
   "metadata": {},
   "outputs": [
    {
     "name": "stdout",
     "output_type": "stream",
     "text": [
      "Cat is 3.5 years old, weighs 7.7 kg, has a body temperature of 38\n",
      "No worries of FIP.\n"
     ]
    }
   ],
   "source": [
    "class Cat: \n",
    "    def __init__(self, name: str, age: int, weight: float,body_temp: float, vomit=False):\n",
    "         '''\n",
    "         vomit is a boolean, name is string, and the rest are numeric\n",
    "         age should be in years, weight in kg, body_temp in celcius \n",
    "         '''\n",
    "         self.name = name \n",
    "         self.age = age \n",
    "         self.weight = weight\n",
    "         self.body_temp = body_temp\n",
    "         self.vomit = vomit\n",
    "    \n",
    "    def update_stats(self, age, weight, body_temp, vomit): \n",
    "        '''\n",
    "        Update the cat's basic information  \n",
    "        '''\n",
    "        self.age = age \n",
    "        self.weight = weight\n",
    "        self.body_temp = body_temp\n",
    "        self.vomit = vomit\n",
    "    \n",
    "    def get_stats(self):\n",
    "        '''\n",
    "        Get the basic stats of a cat\n",
    "        '''\n",
    "        return f\"Cat is {self.age} years old, weighs {self.weight} kg, has a body temperature of {self.body_temp}\"\n",
    "\n",
    "\n",
    "    def check_health_status(self):\n",
    "        '''\n",
    "        Initially check if cat shows sign of FIP by considering the occurrence of vomit and unusual body temperature\n",
    "        '''\n",
    "        if self.vomit and self.body_temp > 39.5:\n",
    "            return f\"You cat checks 2 signs of FIP. \"\n",
    "        elif self.vomit or self.body_temp > 39.5:\n",
    "            return f\"You cat requires close monitoring. \"\n",
    "        else:\n",
    "            return f\"No worries of FIP.\"\n",
    "    \n",
    "if __name__ == '__main__': \n",
    "    my_cat = Cat('Killua',3.5,7.7,38)\n",
    "    print(my_cat.get_stats())\n",
    "    print(my_cat.check_health_status())\n"
   ]
  },
  {
   "cell_type": "markdown",
   "metadata": {},
   "source": [
    "Another way of writing criterion"
   ]
  },
  {
   "cell_type": "code",
   "execution_count": null,
   "metadata": {},
   "outputs": [],
   "source": [
    "class Healthcheck:\n",
    "    def __init__(self, pet):\n",
    "        self.pet = pet\n",
    "\n",
    "    def check_weight(self):\n",
    "       \n",
    "        if 4 <= self.pet.weight <= 6:  \n",
    "            return \"Weight is healthy.\"\n",
    "        elif self.pet.weight < 4:\n",
    "            return \"Pet is underweight.\"\n",
    "        else:\n",
    "            return \"Pet is overweight.\"\n",
    "\n",
    "    def check_temperature(self):\n",
    "        if 38 <= self.pet.temperature <= 39:\n",
    "            return \"Temperature is normal.\"\n",
    "        else:\n",
    "            return \"Abnormal temperature! Consider visiting a vet.\"\n",
    "\n",
    "    def health_status(self):\n",
    "        weight_status = self.check_weight()\n",
    "        temp_status = self.check_temperature()\n",
    "        return f\"{weight_status}\\n{temp_status}\""
   ]
  }
 ],
 "metadata": {
  "kernelspec": {
   "display_name": ".venv",
   "language": "python",
   "name": "python3"
  },
  "language_info": {
   "codemirror_mode": {
    "name": "ipython",
    "version": 3
   },
   "file_extension": ".py",
   "mimetype": "text/x-python",
   "name": "python",
   "nbconvert_exporter": "python",
   "pygments_lexer": "ipython3",
   "version": "3.10.6"
  }
 },
 "nbformat": 4,
 "nbformat_minor": 2
}
